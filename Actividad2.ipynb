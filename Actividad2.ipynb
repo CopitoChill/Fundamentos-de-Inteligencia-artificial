{
  "nbformat": 4,
  "nbformat_minor": 0,
  "metadata": {
    "colab": {
      "provenance": [],
      "authorship_tag": "ABX9TyNI28AzteJAcUaNR6+i6qiW",
      "include_colab_link": true
    },
    "kernelspec": {
      "name": "python3",
      "display_name": "Python 3"
    },
    "language_info": {
      "name": "python"
    }
  },
  "cells": [
    {
      "cell_type": "markdown",
      "metadata": {
        "id": "view-in-github",
        "colab_type": "text"
      },
      "source": [
        "<a href=\"https://colab.research.google.com/github/CopitoChill/Fundamentos-de-Inteligencia-artificial/blob/main/Actividad2.ipynb\" target=\"_parent\"><img src=\"https://colab.research.google.com/assets/colab-badge.svg\" alt=\"Open In Colab\"/></a>"
      ]
    },
    {
      "cell_type": "code",
      "execution_count": 10,
      "metadata": {
        "id": "Eyx0naI_DHZc",
        "colab": {
          "base_uri": "https://localhost:8080/"
        },
        "outputId": "2cf1b94e-7077-4906-c6f3-bf997687d784"
      },
      "outputs": [
        {
          "output_type": "stream",
          "name": "stdout",
          "text": [
            "Drive already mounted at /content/drive; to attempt to forcibly remount, call drive.mount(\"/content/drive\", force_remount=True).\n",
            "   ID  Velocidad  Agilidad profesional\n",
            "0   1       2.50      6.00          no\n",
            "1   2       3.75      8.00          no\n",
            "2   3       2.25      5.50          no\n",
            "3   4       3.25      8.25          no\n",
            "4   5       2.75      7.50          no\n",
            "Accuracy: 0.5\n",
            "              precision    recall  f1-score   support\n",
            "\n",
            "          no       0.50      0.50      0.50         2\n",
            "         yes       0.50      0.50      0.50         2\n",
            "\n",
            "    accuracy                           0.50         4\n",
            "   macro avg       0.50      0.50      0.50         4\n",
            "weighted avg       0.50      0.50      0.50         4\n",
            "\n",
            "Clasificación del nuevo velocista: no\n"
          ]
        }
      ],
      "source": [
        "from google.colab import drive\n",
        "import pandas as pd\n",
        "from sklearn.neighbors import KNeighborsClassifier\n",
        "from sklearn.model_selection import train_test_split\n",
        "from sklearn.metrics import accuracy_score, classification_report\n",
        "from sklearn.preprocessing import StandardScaler\n",
        "\n",
        "# Cargar el conjunto de datos VelocistasDataFrame\n",
        "\n",
        "drive.mount('/content/drive')\n",
        "\n",
        "\n",
        "df = pd.read_excel(\"/content/drive/MyDrive/VelocistasDataFrame.xlsx\")\n",
        "\n",
        "\n",
        "\n",
        "print(df.head())\n",
        "\n",
        "# Dividir en conjunto de entrenamiento y prueba\n",
        "\n",
        "X = df[[\"Velocidad\", \"Agilidad\"]]\n",
        "y = df[\"profesional\"]\n",
        "\n",
        "\n",
        "X_train, X_test, y_train, y_test = train_test_split(X, y, test_size=0.2, random_state=42)\n",
        "\n",
        "#normalizar datos\n",
        "scaler = StandardScaler()\n",
        "X_train_scaled = scaler.fit_transform(X_train)\n",
        "X_test_scaled = scaler.transform(X_test)\n",
        "\n",
        "# Crear y entrenar el modelo KNN\n",
        "knn = KNeighborsClassifier(n_neighbors=5)\n",
        "knn.fit(X_train_scaled, y_train)\n",
        "\n",
        "\n",
        "y_pred = knn.predict(X_test_scaled)\n",
        "print(\"Accuracy:\", accuracy_score(y_test, y_pred))\n",
        "print(classification_report(y_test, y_pred))\n",
        "\n",
        "# Nuevo velocista a evaluar\n",
        "nuevo = pd.DataFrame({\n",
        "    \"Velocidad\": [6.75],\n",
        "    \"Agilidad\": [3]\n",
        "})\n",
        "\n",
        "# Escalar con el mismo scaler usado en entrenamiento\n",
        "nuevo_scaled = scaler.transform(nuevo)\n",
        "\n",
        "# Predicción\n",
        "prediccion = knn.predict(nuevo_scaled)\n",
        "\n",
        "print(\"Clasificación del nuevo velocista:\", prediccion[0])\n"
      ]
    }
  ]
}